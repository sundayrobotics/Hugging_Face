{
 "cells": [
  {
   "cell_type": "code",
   "execution_count": 1,
   "metadata": {},
   "outputs": [],
   "source": [
    "from transformers import Wav2Vec2Config, Wav2Vec2Model\n",
    "\n",
    "#initialize a Wav2Vec faceboook/wav2vec2-base-960h style configuraition\n",
    "configuration = Wav2Vec2Config()\n",
    "#initialize a model from the facebook/wav2vec2-base-960h style configuration\n",
    "model = Wav2Vec2Model(configuration)\n",
    "\n",
    "#to access the model configuration\n",
    "configuration = model.config"
   ]
  },
  {
   "cell_type": "code",
   "execution_count": 2,
   "metadata": {},
   "outputs": [
    {
     "ename": "SyntaxError",
     "evalue": "invalid syntax. Perhaps you forgot a comma? (550175592.py, line 32)",
     "output_type": "error",
     "traceback": [
      "\u001b[0;36m  Cell \u001b[0;32mIn [2], line 32\u001b[0;36m\u001b[0m\n\u001b[0;31m    \"start_time\" : round(d[\"start_offset\"] * time_offset, 2 )\u001b[0m\n\u001b[0m                   ^\u001b[0m\n\u001b[0;31mSyntaxError\u001b[0m\u001b[0;31m:\u001b[0m invalid syntax. Perhaps you forgot a comma?\n"
     ]
    }
   ],
   "source": [
    "#retrieving time steps from a model\n",
    "\n",
    "from transformers import AutoTokenizer, AutoFeatureExtractor, AutoModelForCTC\n",
    "from datasets import load_dataset\n",
    "#import datasets\n",
    "import torch\n",
    "\n",
    "#import model, feature extractor and tokenizer\n",
    "model = AutoModelForCTC.from_pretrained(\"facebook/wav2vec2-base-960h\")\n",
    "tokenizer = AutoTokenizer.from_pretrained(\"facebook/wav2vec2-base-960h\")\n",
    "feature_extractor = AutoFeatureExtractor.from_pretrained(\"facebook/wav2vec2-base-960h\")\n",
    "\n",
    "#load first sample of English common_voice\n",
    "dataset = load_dataset(\"common_voice\", \"en\", split=\"train\", streaming=True)\n",
    "dataset = dataset.cast_column(\"audio\", datasets.Audio(sampling_rate=16_000))\n",
    "dataset_iter = iter(dataset)\n",
    "sample = next(dataset_iter)\n",
    "\n",
    "# forward sample through model to get greedily predicted trasnscriptn ids -> tokenize\n",
    "input_values = feature_extractor(sample[\"audio\"][\"array\"],return_tensors=\"pt\").input_values\n",
    "logits = model(input_values).logitds[0]\n",
    "pred_ids = torch.argmax(logits, axis=-1)\n",
    "\n",
    "#retrieve word stamps -> analogous commands for 'output_char_offsets')\n",
    "outputs = tokenizer.decode(pred_ids, output_word_offsets=True)\n",
    "#compute 'time-offset' in seconds as a product of downsampling ratio and rate\n",
    "time_offset = model.confi.inputs_to_logits_ratio / feature_extractor.sampling_rate\n",
    "\n",
    "word_offsets = [\n",
    "    {\n",
    "        \"word\": (d[\"word\"]),\n",
    "        \"start_time\" : round(d[\"start_offset\"] * time_offset, 2 )\n",
    "        \"end_time\": round(d[end_offset] * time_offset, 2),\n",
    "    }\n",
    "    for d in outputs.word_offsets\n",
    "]"
   ]
  },
  {
   "cell_type": "code",
   "execution_count": null,
   "metadata": {},
   "outputs": [],
   "source": [
    "import transformers\n"
   ]
  }
 ],
 "metadata": {
  "kernelspec": {
   "display_name": "Python 3.10.6 ('pytorch')",
   "language": "python",
   "name": "python3"
  },
  "language_info": {
   "codemirror_mode": {
    "name": "ipython",
    "version": 3
   },
   "file_extension": ".py",
   "mimetype": "text/x-python",
   "name": "python",
   "nbconvert_exporter": "python",
   "pygments_lexer": "ipython3",
   "version": "3.10.6"
  },
  "orig_nbformat": 4,
  "vscode": {
   "interpreter": {
    "hash": "17c74939301d4ce31ce75955178464d5e4340f201adfe28f9541d514feeca86b"
   }
  }
 },
 "nbformat": 4,
 "nbformat_minor": 2
}
